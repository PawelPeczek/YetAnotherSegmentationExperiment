{
 "cells": [
  {
   "cell_type": "code",
   "execution_count": 1,
   "metadata": {},
   "outputs": [],
   "source": [
    "%load_ext autoreload\n",
    "%autoreload 2"
   ]
  },
  {
   "cell_type": "code",
   "execution_count": 2,
   "metadata": {},
   "outputs": [],
   "source": [
    "import sys\n",
    "sys.path.append(\"../\")"
   ]
  },
  {
   "cell_type": "code",
   "execution_count": 3,
   "metadata": {},
   "outputs": [],
   "source": [
    "import os\n",
    "import math\n",
    "from typing import List\n",
    "\n",
    "from glob import glob\n",
    "\n",
    "from src.utils.fs_utils import safe_parse_json"
   ]
  },
  {
   "cell_type": "code",
   "execution_count": 4,
   "metadata": {},
   "outputs": [],
   "source": [
    "ICNET_DICE_EXPERIMENTS_PATH = \"/home/ppeczek/Dokumenty/YetAnotherSegmentationExperiment/resources/experiments/final_experiment/ic_net_ce_dice/\"\n",
    "ICNET_CE_EXPERIMENTS_PATH = \"/home/ppeczek/Dokumenty/YetAnotherSegmentationExperiment/resources/experiments/final_experiment/ic_net_ce/\"\n",
    "UNET_DICE_EXPERIMENTS_PATH = \"/home/ppeczek/Dokumenty/YetAnotherSegmentationExperiment/resources/experiments/final_experiment/u_net_original_ce_dice/\"\n",
    "UNET_CE_EXPERIMENTS_PATH = \"/home/ppeczek/Dokumenty/YetAnotherSegmentationExperiment/resources/experiments/final_experiment/u_net_original_ce/\""
   ]
  },
  {
   "cell_type": "code",
   "execution_count": 5,
   "metadata": {},
   "outputs": [],
   "source": [
    "DICE_MARKER = \"D\"\n",
    "CLASSES_ABBREVIATIONS = {\n",
    "    \"background\": \"bg\",\n",
    "    \"box\": \"bx\",\n",
    "    \"clamp\": \"cl\",\n",
    "    \"drill\": \"dr\",\n",
    "    \"duck\": \"du\", \n",
    "    \"adapter\": \"ad\",\n",
    "    \"bottle\": \"bo\"\n",
    "}\n",
    "METRICS_TYPES_ABBREVIATIONS = {\n",
    "    \"pixel_weighted\": \"pw\",\n",
    "    \"examples_weighted\": \"ew\"\n",
    "}\n",
    "METRICS_TYPES_ORDER = [\"pixel_weighted\", \"examples_weighted\"]\n",
    "CLASS_ORDER = [\"background\", \"box\", \"clamp\", \"drill\", \"duck\", \"adapter\", \"bottle\"]"
   ]
  },
  {
   "cell_type": "code",
   "execution_count": 6,
   "metadata": {},
   "outputs": [],
   "source": [
    "def generate_table_with_experiment_results(experiments_base_path: str) -> str:\n",
    "    metrics_paths = glob(os.path.join(\n",
    "        experiments_base_path, \"*\", \"evaluation_metrics.json\"\n",
    "    ))\n",
    "    metrics_paths = sorted(metrics_paths)\n",
    "    metrics = [safe_parse_json(path) for path in metrics_paths]\n",
    "    table = _prepare_header()\n",
    "    table += _prepare_table_content(metrics_paths, metrics)\n",
    "    table += _prepare_table_end() \n",
    "    return table\n",
    "\n",
    "def _prepare_header() -> str:\n",
    "    header = r\"\\begin{center} \\tiny \\renewcommand{\\arraystretch}{1.5} \" \\\n",
    "        r\"\\begin{tabular}{ |c|c|c|c|c|c|c|c|c||c|c|c|c|c|c|c|c| } \\hline \"\n",
    "    header += \"Split name &\"\n",
    "    for mt in METRICS_TYPES_ORDER:\n",
    "        for c in CLASS_ORDER:\n",
    "            header += f\" ${DICE_MARKER}^{{{METRICS_TYPES_ABBREVIATIONS[mt]}}}_{{{CLASSES_ABBREVIATIONS[c]}}}$ &\"\n",
    "        header += f\" ${DICE_MARKER}^{{{METRICS_TYPES_ABBREVIATIONS[mt]}}}$ & \"\n",
    "    header = header[:-2]\n",
    "    header += \"\\\\\\\\ [1.05ex] \\hline \"\n",
    "    header += \"\\n\"\n",
    "    return header\n",
    "\n",
    "def _prepare_table_content(metrics_paths: List[str], metrics: List[dict]) -> str:\n",
    "    result = \"\"\n",
    "    for path, metric in zip(metrics_paths, metrics):\n",
    "        result += _prepare_content_row(path=path, metric=metric)\n",
    "    return result\n",
    "\n",
    "def _prepare_content_row(path: str, metric: dict) -> str:\n",
    "    experiment_name = os.path.basename(os.path.dirname(path))\n",
    "    e_name, e_number =  experiment_name.split(\"#\")\n",
    "    if \"rand\" in e_name:\n",
    "        e_name = \"random\"\n",
    "    else:\n",
    "        e_name = \"rot\"\n",
    "    experiment_name_latex = f\"${e_name}_{e_number}$\"\n",
    "    row = f\"{experiment_name_latex} & \"\n",
    "    for mt in METRICS_TYPES_ORDER:\n",
    "        key = f\"{mt}_class_metrics\"\n",
    "        for c in CLASS_ORDER:\n",
    "            score = round(metric[key][\"dice\"][c][0], 2)\n",
    "            row += f\" {score} &\"\n",
    "        key = f\"{mt}_mean_metrics\"\n",
    "        score =  round(metric[key][\"dice\"], 2)\n",
    "        row += f\" {score} & \"\n",
    "    row = row[:-2]\n",
    "    row += \"\\\\\\\\ \\hline \\n\"\n",
    "    return row\n",
    "\n",
    "def _prepare_table_end() -> str:\n",
    "    return r\"\\end{tabular} \\end{center}\""
   ]
  },
  {
   "cell_type": "code",
   "execution_count": 13,
   "metadata": {},
   "outputs": [],
   "source": [
    "icnet_table = generate_table_with_experiment_results(\n",
    "    experiments_base_path=UNET_CE_EXPERIMENTS_PATH\n",
    ")"
   ]
  },
  {
   "cell_type": "code",
   "execution_count": 14,
   "metadata": {},
   "outputs": [],
   "source": [
    "with open(\"UNET_CE.txt\", \"w\") as f:\n",
    "    f.write(icnet_table)"
   ]
  },
  {
   "cell_type": "code",
   "execution_count": null,
   "metadata": {},
   "outputs": [],
   "source": []
  }
 ],
 "metadata": {
  "kernelspec": {
   "display_name": "YetAnotherSegmentationExperiment",
   "language": "python",
   "name": "yetanothersegmentationexperiment"
  },
  "language_info": {
   "codemirror_mode": {
    "name": "ipython",
    "version": 3
   },
   "file_extension": ".py",
   "mimetype": "text/x-python",
   "name": "python",
   "nbconvert_exporter": "python",
   "pygments_lexer": "ipython3",
   "version": "3.7.7"
  }
 },
 "nbformat": 4,
 "nbformat_minor": 2
}
