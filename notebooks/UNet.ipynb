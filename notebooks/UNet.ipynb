{
 "cells": [
  {
   "cell_type": "code",
   "execution_count": 1,
   "metadata": {},
   "outputs": [],
   "source": [
    "%load_ext autoreload\n",
    "%autoreload 2"
   ]
  },
  {
   "cell_type": "code",
   "execution_count": 2,
   "metadata": {},
   "outputs": [],
   "source": [
    "import sys\n",
    "sys.path.append(\"../\")"
   ]
  },
  {
   "cell_type": "code",
   "execution_count": 3,
   "metadata": {},
   "outputs": [],
   "source": [
    "import os\n",
    "import random"
   ]
  },
  {
   "cell_type": "code",
   "execution_count": 4,
   "metadata": {},
   "outputs": [],
   "source": [
    "import numpy as np\n",
    "import matplotlib.pyplot as plt"
   ]
  },
  {
   "cell_type": "code",
   "execution_count": 7,
   "metadata": {},
   "outputs": [],
   "source": [
    "from src.models.unet import UNet\n",
    "import src.config as global_config\n",
    "from src.data_access.data_generation import DataGenerator\n",
    "from src.data_access.folds_generation import FoldsGenerator\n",
    "import src.data_access.config as data_access_config\n",
    "from src.data_access.utils import prepare_class_weighting, \\\n",
    "    convert_class_weighting_to_vector\n",
    "from src.evaluation.losses.dice import dice_loss, bce_dice_loss"
   ]
  },
  {
   "cell_type": "code",
   "execution_count": 8,
   "metadata": {},
   "outputs": [],
   "source": [
    "u_net = UNet(num_classes=len(global_config.CLASS_MAPPINGS) + 1)"
   ]
  },
  {
   "cell_type": "code",
   "execution_count": 9,
   "metadata": {},
   "outputs": [
    {
     "name": "stdout",
     "output_type": "stream",
     "text": [
      "(128, 128, 3)\n",
      "WARNING:tensorflow:From /home/ppeczek/anaconda3/envs/YetAnotherSegmentationExperiment/lib/python3.7/site-packages/tensorflow/python/ops/resource_variable_ops.py:435: colocate_with (from tensorflow.python.framework.ops) is deprecated and will be removed in a future version.\n",
      "Instructions for updating:\n",
      "Colocations handled automatically by placer.\n"
     ]
    }
   ],
   "source": [
    "input_size = global_config.MODEL_INPUT_SIZE.to_compact_form() + (3, )\n",
    "print(input_size)\n",
    "model = u_net.build_model(input_shape=input_size)"
   ]
  },
  {
   "cell_type": "code",
   "execution_count": 10,
   "metadata": {
    "scrolled": false
   },
   "outputs": [
    {
     "name": "stdout",
     "output_type": "stream",
     "text": [
      "__________________________________________________________________________________________________\n",
      "Layer (type)                    Output Shape         Param #     Connected to                     \n",
      "==================================================================================================\n",
      "input (InputLayer)              (None, 128, 128, 3)  0                                            \n",
      "__________________________________________________________________________________________________\n",
      "sub_stack_1_1 (Conv2D)          (None, 128, 128, 64) 1792        input[0][0]                      \n",
      "__________________________________________________________________________________________________\n",
      "sub_stack_1_2 (Conv2D)          (None, 128, 128, 64) 36928       sub_stack_1_1[0][0]              \n",
      "__________________________________________________________________________________________________\n",
      "sub_stack_1_3 (Conv2D)          (None, 128, 128, 64) 36928       sub_stack_1_2[0][0]              \n",
      "__________________________________________________________________________________________________\n",
      "sub_stack_1_bn (BatchNormalizat (None, 128, 128, 64) 256         sub_stack_1_3[0][0]              \n",
      "__________________________________________________________________________________________________\n",
      "sub_stack_2_input (MaxPooling2D (None, 64, 64, 64)   0           sub_stack_1_bn[0][0]             \n",
      "__________________________________________________________________________________________________\n",
      "sub_stack_2_1 (Conv2D)          (None, 64, 64, 128)  73856       sub_stack_2_input[0][0]          \n",
      "__________________________________________________________________________________________________\n",
      "sub_stack_2_2 (Conv2D)          (None, 64, 64, 128)  147584      sub_stack_2_1[0][0]              \n",
      "__________________________________________________________________________________________________\n",
      "sub_stack_2_3 (Conv2D)          (None, 64, 64, 128)  147584      sub_stack_2_2[0][0]              \n",
      "__________________________________________________________________________________________________\n",
      "sub_stack_2_bn (BatchNormalizat (None, 64, 64, 128)  512         sub_stack_2_3[0][0]              \n",
      "__________________________________________________________________________________________________\n",
      "sub_stack_3_input (MaxPooling2D (None, 32, 32, 128)  0           sub_stack_2_bn[0][0]             \n",
      "__________________________________________________________________________________________________\n",
      "sub_stack_3_1 (Conv2D)          (None, 32, 32, 256)  295168      sub_stack_3_input[0][0]          \n",
      "__________________________________________________________________________________________________\n",
      "sub_stack_3_2 (Conv2D)          (None, 32, 32, 256)  590080      sub_stack_3_1[0][0]              \n",
      "__________________________________________________________________________________________________\n",
      "sub_stack_3_3 (Conv2D)          (None, 32, 32, 256)  590080      sub_stack_3_2[0][0]              \n",
      "__________________________________________________________________________________________________\n",
      "sub_stack_3_bn (BatchNormalizat (None, 32, 32, 256)  1024        sub_stack_3_3[0][0]              \n",
      "__________________________________________________________________________________________________\n",
      "sub_stack_4_input (MaxPooling2D (None, 16, 16, 256)  0           sub_stack_3_bn[0][0]             \n",
      "__________________________________________________________________________________________________\n",
      "sub_stack_4_1 (Conv2D)          (None, 16, 16, 512)  1180160     sub_stack_4_input[0][0]          \n",
      "__________________________________________________________________________________________________\n",
      "sub_stack_4_2 (Conv2D)          (None, 16, 16, 512)  2359808     sub_stack_4_1[0][0]              \n",
      "__________________________________________________________________________________________________\n",
      "sub_stack_4_3 (Conv2D)          (None, 16, 16, 512)  2359808     sub_stack_4_2[0][0]              \n",
      "__________________________________________________________________________________________________\n",
      "sub_stack_4_bn (BatchNormalizat (None, 16, 16, 512)  2048        sub_stack_4_3[0][0]              \n",
      "__________________________________________________________________________________________________\n",
      "sub_stack_5_input (MaxPooling2D (None, 8, 8, 512)    0           sub_stack_4_bn[0][0]             \n",
      "__________________________________________________________________________________________________\n",
      "filter_extraction_conv (Conv2D) (None, 8, 8, 1024)   4719616     sub_stack_5_input[0][0]          \n",
      "__________________________________________________________________________________________________\n",
      "filter_extraction_conv_bn (Batc (None, 8, 8, 1024)   4096        filter_extraction_conv[0][0]     \n",
      "__________________________________________________________________________________________________\n",
      "up_sampling_input (Conv2D)      (None, 8, 8, 512)    4719104     filter_extraction_conv_bn[0][0]  \n",
      "__________________________________________________________________________________________________\n",
      "up_sampling2d (UpSampling2D)    (None, 16, 16, 512)  0           up_sampling_input[0][0]          \n",
      "__________________________________________________________________________________________________\n",
      "up_sample_bottleneck_conv_1 (Co (None, 16, 16, 256)  524544      up_sampling2d[0][0]              \n",
      "__________________________________________________________________________________________________\n",
      "up_sample_concat_1 (Concatenate (None, 16, 16, 768)  0           up_sample_bottleneck_conv_1[0][0]\n",
      "                                                                 sub_stack_4_bn[0][0]             \n",
      "__________________________________________________________________________________________________\n",
      "up_sample_1_conv_3x3_1 (Conv2D) (None, 16, 16, 384)  2654592     up_sample_concat_1[0][0]         \n",
      "__________________________________________________________________________________________________\n",
      "up_sample_1_conv_3x3_2 (Conv2D) (None, 16, 16, 384)  1327488     up_sample_1_conv_3x3_1[0][0]     \n",
      "__________________________________________________________________________________________________\n",
      "up_sample_1_bn (BatchNormalizat (None, 16, 16, 384)  1536        up_sample_1_conv_3x3_2[0][0]     \n",
      "__________________________________________________________________________________________________\n",
      "up_sampling2d_1 (UpSampling2D)  (None, 32, 32, 384)  0           up_sample_1_bn[0][0]             \n",
      "__________________________________________________________________________________________________\n",
      "up_sample_bottleneck_conv_2 (Co (None, 32, 32, 192)  295104      up_sampling2d_1[0][0]            \n",
      "__________________________________________________________________________________________________\n",
      "up_sample_concat_2 (Concatenate (None, 32, 32, 448)  0           up_sample_bottleneck_conv_2[0][0]\n",
      "                                                                 sub_stack_3_bn[0][0]             \n",
      "__________________________________________________________________________________________________\n",
      "up_sample_2_conv_3x3_1 (Conv2D) (None, 32, 32, 224)  903392      up_sample_concat_2[0][0]         \n",
      "__________________________________________________________________________________________________\n",
      "up_sample_2_conv_3x3_2 (Conv2D) (None, 32, 32, 224)  451808      up_sample_2_conv_3x3_1[0][0]     \n",
      "__________________________________________________________________________________________________\n",
      "up_sample_2_bn (BatchNormalizat (None, 32, 32, 224)  896         up_sample_2_conv_3x3_2[0][0]     \n",
      "__________________________________________________________________________________________________\n",
      "up_sampling2d_2 (UpSampling2D)  (None, 64, 64, 224)  0           up_sample_2_bn[0][0]             \n",
      "__________________________________________________________________________________________________\n",
      "up_sample_bottleneck_conv_3 (Co (None, 64, 64, 112)  100464      up_sampling2d_2[0][0]            \n",
      "__________________________________________________________________________________________________\n",
      "up_sample_concat_3 (Concatenate (None, 64, 64, 240)  0           up_sample_bottleneck_conv_3[0][0]\n",
      "                                                                 sub_stack_2_bn[0][0]             \n",
      "__________________________________________________________________________________________________\n",
      "up_sample_3_conv_3x3_1 (Conv2D) (None, 64, 64, 120)  259320      up_sample_concat_3[0][0]         \n",
      "__________________________________________________________________________________________________\n",
      "up_sample_3_conv_3x3_2 (Conv2D) (None, 64, 64, 120)  129720      up_sample_3_conv_3x3_1[0][0]     \n",
      "__________________________________________________________________________________________________\n",
      "up_sample_3_bn (BatchNormalizat (None, 64, 64, 120)  480         up_sample_3_conv_3x3_2[0][0]     \n",
      "__________________________________________________________________________________________________\n",
      "up_sampling2d_3 (UpSampling2D)  (None, 128, 128, 120 0           up_sample_3_bn[0][0]             \n",
      "__________________________________________________________________________________________________\n",
      "up_sample_bottleneck_conv_4 (Co (None, 128, 128, 60) 28860       up_sampling2d_3[0][0]            \n",
      "__________________________________________________________________________________________________\n",
      "up_sample_concat_4 (Concatenate (None, 128, 128, 124 0           up_sample_bottleneck_conv_4[0][0]\n",
      "                                                                 sub_stack_1_bn[0][0]             \n",
      "__________________________________________________________________________________________________\n",
      "up_sample_4_conv_3x3_1 (Conv2D) (None, 128, 128, 62) 69254       up_sample_concat_4[0][0]         \n",
      "__________________________________________________________________________________________________\n",
      "up_sample_4_conv_3x3_2 (Conv2D) (None, 128, 128, 62) 34658       up_sample_4_conv_3x3_1[0][0]     \n",
      "__________________________________________________________________________________________________\n",
      "up_sample_4_bn (BatchNormalizat (None, 128, 128, 62) 248         up_sample_4_conv_3x3_2[0][0]     \n",
      "__________________________________________________________________________________________________\n",
      "output (Conv2D)                 (None, 128, 128, 7)  441         up_sample_4_bn[0][0]             \n",
      "__________________________________________________________________________________________________\n",
      "output_soft_max (Softmax)       (None, 128, 128, 7)  0           output[0][0]                     \n",
      "==================================================================================================\n",
      "Total params: 24,049,237\n",
      "Trainable params: 24,043,689\n",
      "Non-trainable params: 5,548\n",
      "__________________________________________________________________________________________________\n"
     ]
    }
   ],
   "source": [
    "model.summary()"
   ]
  },
  {
   "cell_type": "code",
   "execution_count": 11,
   "metadata": {},
   "outputs": [],
   "source": [
    "folds_genarator = FoldsGenerator(\n",
    "    dataset_path=global_config.DATASET_PATH,\n",
    "    generator_specs=data_access_config.FOLDS_GENERATOR_SPECS\n",
    ")"
   ]
  },
  {
   "cell_type": "code",
   "execution_count": 12,
   "metadata": {},
   "outputs": [],
   "source": [
    "dataset_split = next(folds_genarator.generate_folds())"
   ]
  },
  {
   "cell_type": "code",
   "execution_count": 13,
   "metadata": {},
   "outputs": [
    {
     "data": {
      "text/plain": [
       "{'duck': 0.1450381679389313,\n",
       " 'clamp': 0.16793893129770993,\n",
       " 'adapter': 0.22137404580152673,\n",
       " 'drill': 0.21374045801526717,\n",
       " 'box': 0.0916030534351145,\n",
       " 'bottle': 0.16030534351145037}"
      ]
     },
     "execution_count": 13,
     "metadata": {},
     "output_type": "execute_result"
    }
   ],
   "source": [
    "dataset_split.test_set.classes_balance"
   ]
  },
  {
   "cell_type": "code",
   "execution_count": 14,
   "metadata": {},
   "outputs": [
    {
     "data": {
      "text/plain": [
       "{'duck': 0.14534883720930233,\n",
       " 'clamp': 0.16666666666666666,\n",
       " 'adapter': 0.22286821705426357,\n",
       " 'drill': 0.21705426356589147,\n",
       " 'box': 0.09302325581395349,\n",
       " 'bottle': 0.15503875968992248}"
      ]
     },
     "execution_count": 14,
     "metadata": {},
     "output_type": "execute_result"
    }
   ],
   "source": [
    "dataset_split.training_set.classes_balance"
   ]
  },
  {
   "cell_type": "code",
   "execution_count": 15,
   "metadata": {},
   "outputs": [],
   "source": [
    "training_set = dataset_split.training_set\n",
    "test_set = dataset_split.test_set"
   ]
  },
  {
   "cell_type": "code",
   "execution_count": 16,
   "metadata": {},
   "outputs": [],
   "source": [
    "class_weights = prepare_class_weighting(\n",
    "    class_balance=training_set.classes_balance,\n",
    "    class_mapping=global_config.CLASS_MAPPINGS\n",
    ")"
   ]
  },
  {
   "cell_type": "code",
   "execution_count": 17,
   "metadata": {},
   "outputs": [],
   "source": [
    "class_weights_vector = convert_class_weighting_to_vector(\n",
    "    class_weighting=class_weights\n",
    ")"
   ]
  },
  {
   "cell_type": "code",
   "execution_count": 18,
   "metadata": {},
   "outputs": [
    {
     "data": {
      "text/plain": [
       "{6: 0.1723363816134394,\n",
       " 4: 0.15029336928403944,\n",
       " 1: 0.11239331925278236,\n",
       " 5: 0.11540385320291446,\n",
       " 3: 0.2692754920614553,\n",
       " 2: 0.16156536470990535,\n",
       " 0: 0.018732219875463727}"
      ]
     },
     "execution_count": 18,
     "metadata": {},
     "output_type": "execute_result"
    }
   ],
   "source": [
    "class_weights"
   ]
  },
  {
   "cell_type": "code",
   "execution_count": 19,
   "metadata": {},
   "outputs": [
    {
     "data": {
      "text/plain": [
       "array([0.01873222, 0.11239332, 0.16156536, 0.2692755 , 0.15029337,\n",
       "       0.11540385, 0.17233638], dtype=float32)"
      ]
     },
     "execution_count": 19,
     "metadata": {},
     "output_type": "execute_result"
    }
   ],
   "source": [
    "class_weights_vector"
   ]
  },
  {
   "cell_type": "code",
   "execution_count": 20,
   "metadata": {},
   "outputs": [
    {
     "data": {
      "text/plain": [
       "1.0"
      ]
     },
     "execution_count": 20,
     "metadata": {},
     "output_type": "execute_result"
    }
   ],
   "source": [
    "np.sum(class_weights_vector)"
   ]
  },
  {
   "cell_type": "code",
   "execution_count": 21,
   "metadata": {},
   "outputs": [],
   "source": [
    "training_generator = DataGenerator(\n",
    "    examples=training_set.examples,\n",
    "    transformation_chain=data_access_config.TRAINING_TRANSFORMATION_CHAIN,\n",
    "    batch_size=16\n",
    ")\n",
    "test_generator = DataGenerator(\n",
    "    examples=test_set.examples,\n",
    "    transformation_chain=data_access_config.VALIDATION_TRANSFORMATION_CHAIN,\n",
    "    batch_size=16\n",
    ")"
   ]
  },
  {
   "cell_type": "code",
   "execution_count": 22,
   "metadata": {},
   "outputs": [
    {
     "data": {
      "text/plain": [
       "(16, 128, 128, 7)"
      ]
     },
     "execution_count": 22,
     "metadata": {},
     "output_type": "execute_result"
    }
   ],
   "source": [
    "test_generator[0][1].shape"
   ]
  },
  {
   "cell_type": "code",
   "execution_count": 23,
   "metadata": {},
   "outputs": [],
   "source": [
    "model.compile(\n",
    "    optimizer=\"adam\",\n",
    "    loss=bce_dice_loss,\n",
    "    metrics=[dice_loss]\n",
    ")"
   ]
  },
  {
   "cell_type": "code",
   "execution_count": 24,
   "metadata": {
    "scrolled": false
   },
   "outputs": [
    {
     "name": "stdout",
     "output_type": "stream",
     "text": [
      "WARNING:tensorflow:From /home/ppeczek/anaconda3/envs/YetAnotherSegmentationExperiment/lib/python3.7/site-packages/tensorflow/python/ops/math_ops.py:3066: to_int32 (from tensorflow.python.ops.math_ops) is deprecated and will be removed in a future version.\n",
      "Instructions for updating:\n",
      "Use tf.cast instead.\n",
      "Epoch 1/32\n",
      "8/8 [==============================] - 3s 326ms/step - loss: 75.3012 - dice_loss: 0.0296\n",
      "32/32 [==============================] - 12s 373ms/step - loss: 14.3183 - dice_loss: 0.5210 - val_loss: 75.3012 - val_dice_loss: 0.0296\n",
      "Epoch 2/32\n",
      "8/8 [==============================] - 2s 294ms/step - loss: 53.6421 - dice_loss: 0.3490\n",
      "32/32 [==============================] - 8s 246ms/step - loss: 8.1612 - dice_loss: 0.7123 - val_loss: 53.6421 - val_dice_loss: 0.3490\n",
      "Epoch 3/32\n",
      "8/8 [==============================] - 2s 287ms/step - loss: 31.5849 - dice_loss: 0.5327\n",
      "32/32 [==============================] - 9s 269ms/step - loss: 5.5176 - dice_loss: 0.8030 - val_loss: 31.5849 - val_dice_loss: 0.5327\n",
      "Epoch 4/32\n",
      "8/8 [==============================] - 3s 319ms/step - loss: 17.9337 - dice_loss: 0.6769\n",
      "32/32 [==============================] - 9s 272ms/step - loss: 3.9242 - dice_loss: 0.8633 - val_loss: 17.9337 - val_dice_loss: 0.6769\n",
      "Epoch 5/32\n",
      "8/8 [==============================] - 3s 317ms/step - loss: 4.2601 - dice_loss: 0.8764\n",
      "32/32 [==============================] - 9s 269ms/step - loss: 3.6721 - dice_loss: 0.8749 - val_loss: 4.2601 - val_dice_loss: 0.8764\n",
      "Epoch 6/32\n",
      "8/8 [==============================] - 2s 288ms/step - loss: 3.1652 - dice_loss: 0.9069\n",
      "32/32 [==============================] - 8s 249ms/step - loss: 3.2435 - dice_loss: 0.8908 - val_loss: 3.1652 - val_dice_loss: 0.9069\n",
      "Epoch 7/32\n",
      "8/8 [==============================] - 2s 311ms/step - loss: 2.9328 - dice_loss: 0.9048\n",
      "32/32 [==============================] - 8s 250ms/step - loss: 3.1937 - dice_loss: 0.8925 - val_loss: 2.9328 - val_dice_loss: 0.9048\n",
      "Epoch 8/32\n",
      "8/8 [==============================] - 2s 286ms/step - loss: 11.4614 - dice_loss: 0.7387\n",
      "32/32 [==============================] - 8s 249ms/step - loss: 3.1749 - dice_loss: 0.8942 - val_loss: 11.4614 - val_dice_loss: 0.7387\n",
      "Epoch 9/32\n",
      "8/8 [==============================] - 2s 268ms/step - loss: 8.1144 - dice_loss: 0.7524\n",
      "32/32 [==============================] - 8s 244ms/step - loss: 2.9644 - dice_loss: 0.9022 - val_loss: 8.1144 - val_dice_loss: 0.7524\n",
      "Epoch 10/32\n",
      "8/8 [==============================] - 2s 288ms/step - loss: 4.0198 - dice_loss: 0.8900\n",
      "32/32 [==============================] - 9s 269ms/step - loss: 2.8024 - dice_loss: 0.9066 - val_loss: 4.0198 - val_dice_loss: 0.8900\n",
      "Epoch 11/32\n",
      "8/8 [==============================] - 2s 295ms/step - loss: 3.3774 - dice_loss: 0.8839\n",
      "32/32 [==============================] - 8s 251ms/step - loss: 2.6652 - dice_loss: 0.9124 - val_loss: 3.3774 - val_dice_loss: 0.8839\n",
      "Epoch 12/32\n",
      "8/8 [==============================] - 2s 293ms/step - loss: 2.6625 - dice_loss: 0.9101\n",
      "32/32 [==============================] - 9s 272ms/step - loss: 2.8855 - dice_loss: 0.9067 - val_loss: 2.6625 - val_dice_loss: 0.9101\n",
      "Epoch 13/32\n",
      "8/8 [==============================] - 2s 310ms/step - loss: 2.3553 - dice_loss: 0.9228\n",
      "32/32 [==============================] - 9s 269ms/step - loss: 2.5301 - dice_loss: 0.9161 - val_loss: 2.3553 - val_dice_loss: 0.9228\n",
      "Epoch 14/32\n",
      "8/8 [==============================] - 2s 275ms/step - loss: 1.5822 - dice_loss: 0.9420\n",
      "32/32 [==============================] - 9s 267ms/step - loss: 2.5885 - dice_loss: 0.9149 - val_loss: 1.5822 - val_dice_loss: 0.9420\n",
      "Epoch 15/32\n",
      "8/8 [==============================] - 2s 299ms/step - loss: 1.6689 - dice_loss: 0.9429\n",
      "32/32 [==============================] - 9s 271ms/step - loss: 2.6090 - dice_loss: 0.9134 - val_loss: 1.6689 - val_dice_loss: 0.9429\n",
      "Epoch 16/32\n",
      "8/8 [==============================] - 2s 286ms/step - loss: 1.5772 - dice_loss: 0.9483\n",
      "32/32 [==============================] - 9s 271ms/step - loss: 2.4806 - dice_loss: 0.9183 - val_loss: 1.5772 - val_dice_loss: 0.9483\n",
      "Epoch 17/32\n",
      "8/8 [==============================] - 2s 289ms/step - loss: 2.1652 - dice_loss: 0.9203\n",
      "32/32 [==============================] - 9s 269ms/step - loss: 2.4096 - dice_loss: 0.9204 - val_loss: 2.1652 - val_dice_loss: 0.9203\n",
      "Epoch 18/32\n",
      "8/8 [==============================] - 2s 284ms/step - loss: 1.2820 - dice_loss: 0.9562\n",
      "32/32 [==============================] - 9s 270ms/step - loss: 2.3161 - dice_loss: 0.9213 - val_loss: 1.2820 - val_dice_loss: 0.9562\n",
      "Epoch 19/32\n",
      "8/8 [==============================] - 2s 285ms/step - loss: 2.0457 - dice_loss: 0.9400\n",
      "32/32 [==============================] - 8s 246ms/step - loss: 2.2962 - dice_loss: 0.9233 - val_loss: 2.0457 - val_dice_loss: 0.9400\n",
      "Epoch 20/32\n",
      "8/8 [==============================] - 2s 311ms/step - loss: 1.7115 - dice_loss: 0.9407\n",
      "32/32 [==============================] - 8s 250ms/step - loss: 2.3486 - dice_loss: 0.9223 - val_loss: 1.7115 - val_dice_loss: 0.9407\n",
      "Epoch 21/32\n",
      "8/8 [==============================] - 2s 311ms/step - loss: 1.4138 - dice_loss: 0.9479\n",
      "32/32 [==============================] - 9s 269ms/step - loss: 2.1440 - dice_loss: 0.9285 - val_loss: 1.4138 - val_dice_loss: 0.9479\n",
      "Epoch 22/32\n",
      "8/8 [==============================] - 2s 278ms/step - loss: 1.8638 - dice_loss: 0.9358\n",
      "32/32 [==============================] - 8s 246ms/step - loss: 2.0692 - dice_loss: 0.9306 - val_loss: 1.8638 - val_dice_loss: 0.9358\n",
      "Epoch 23/32\n",
      "8/8 [==============================] - 2s 302ms/step - loss: 1.6884 - dice_loss: 0.9413\n",
      "32/32 [==============================] - 9s 269ms/step - loss: 2.4262 - dice_loss: 0.9205 - val_loss: 1.6884 - val_dice_loss: 0.9413\n",
      "Epoch 24/32\n",
      "8/8 [==============================] - 2s 273ms/step - loss: 1.3918 - dice_loss: 0.9461\n",
      "32/32 [==============================] - 8s 245ms/step - loss: 2.2395 - dice_loss: 0.9258 - val_loss: 1.3918 - val_dice_loss: 0.9461\n",
      "Epoch 25/32\n",
      "8/8 [==============================] - 2s 294ms/step - loss: 1.5916 - dice_loss: 0.9416\n",
      "32/32 [==============================] - 8s 248ms/step - loss: 2.1365 - dice_loss: 0.9295 - val_loss: 1.5916 - val_dice_loss: 0.9416\n",
      "Epoch 26/32\n",
      "8/8 [==============================] - 3s 332ms/step - loss: 1.3590 - dice_loss: 0.9476\n",
      "32/32 [==============================] - 9s 276ms/step - loss: 2.0649 - dice_loss: 0.9303 - val_loss: 1.3590 - val_dice_loss: 0.9476\n",
      "Epoch 27/32\n",
      "8/8 [==============================] - 2s 286ms/step - loss: 1.6817 - dice_loss: 0.9415\n",
      "32/32 [==============================] - 8s 248ms/step - loss: 2.1605 - dice_loss: 0.9275 - val_loss: 1.6817 - val_dice_loss: 0.9415\n",
      "Epoch 28/32\n",
      "8/8 [==============================] - 2s 293ms/step - loss: 1.2589 - dice_loss: 0.9520\n",
      "32/32 [==============================] - 9s 272ms/step - loss: 2.0438 - dice_loss: 0.9304 - val_loss: 1.2589 - val_dice_loss: 0.9520\n",
      "Epoch 29/32\n",
      "8/8 [==============================] - 2s 281ms/step - loss: 1.2705 - dice_loss: 0.9517\n",
      "32/32 [==============================] - 8s 249ms/step - loss: 1.9959 - dice_loss: 0.9342 - val_loss: 1.2705 - val_dice_loss: 0.9517\n",
      "Epoch 30/32\n",
      "8/8 [==============================] - 2s 293ms/step - loss: 1.5786 - dice_loss: 0.9403\n",
      "32/32 [==============================] - 9s 270ms/step - loss: 2.0305 - dice_loss: 0.9317 - val_loss: 1.5786 - val_dice_loss: 0.9403\n",
      "Epoch 31/32\n",
      "8/8 [==============================] - 3s 330ms/step - loss: 1.2129 - dice_loss: 0.9524\n",
      "32/32 [==============================] - 9s 273ms/step - loss: 1.9875 - dice_loss: 0.9339 - val_loss: 1.2129 - val_dice_loss: 0.9524\n",
      "Epoch 32/32\n",
      "8/8 [==============================] - 2s 282ms/step - loss: 1.3300 - dice_loss: 0.9496\n",
      "32/32 [==============================] - 8s 249ms/step - loss: 2.1296 - dice_loss: 0.9288 - val_loss: 1.3300 - val_dice_loss: 0.9496\n"
     ]
    },
    {
     "data": {
      "text/plain": [
       "<tensorflow.python.keras.callbacks.History at 0x7eff3eb53f50>"
      ]
     },
     "execution_count": 24,
     "metadata": {},
     "output_type": "execute_result"
    }
   ],
   "source": [
    "model.fit_generator(\n",
    "    training_generator, \n",
    "    epochs=32, \n",
    "    verbose=1,\n",
    "    callbacks=None,\n",
    "    validation_data=test_generator, \n",
    "    max_queue_size=10,\n",
    "    workers=24,\n",
    "    use_multiprocessing=True\n",
    ")"
   ]
  },
  {
   "cell_type": "code",
   "execution_count": 25,
   "metadata": {},
   "outputs": [],
   "source": [
    "model.save(os.path.join(global_config.MODELS_PATH, \"u_net.h5\"))"
   ]
  },
  {
   "cell_type": "code",
   "execution_count": 26,
   "metadata": {},
   "outputs": [],
   "source": [
    "test_batch = test_generator[1]"
   ]
  },
  {
   "cell_type": "code",
   "execution_count": 45,
   "metadata": {},
   "outputs": [],
   "source": [
    "test_sample = test_batch[0][7]"
   ]
  },
  {
   "cell_type": "code",
   "execution_count": 46,
   "metadata": {},
   "outputs": [
    {
     "name": "stderr",
     "output_type": "stream",
     "text": [
      "Clipping input data to the valid range for imshow with RGB data ([0..1] for floats or [0..255] for integers).\n"
     ]
    },
    {
     "data": {
      "text/plain": [
       "<matplotlib.image.AxesImage at 0x7eff3e40fc50>"
      ]
     },
     "execution_count": 46,
     "metadata": {},
     "output_type": "execute_result"
    },
    {
     "data": {
      "image/png": "[encoded data removed]",
      "text/plain": [
       "<Figure size 432x288 with 1 Axes>"
      ]
     },
     "metadata": {
      "needs_background": "light"
     },
     "output_type": "display_data"
    }
   ],
   "source": [
    "plt.imshow(test_sample)"
   ]
  },
  {
   "cell_type": "code",
   "execution_count": 47,
   "metadata": {},
   "outputs": [],
   "source": [
    "prediction = model.predict(np.expand_dims(test_sample, axis=0))"
   ]
  },
  {
   "cell_type": "code",
   "execution_count": 48,
   "metadata": {},
   "outputs": [],
   "source": [
    "prediction = np.argmax(prediction, axis=-1)"
   ]
  },
  {
   "cell_type": "code",
   "execution_count": 49,
   "metadata": {},
   "outputs": [],
   "source": [
    "prediction = np.squeeze(prediction, axis=0)"
   ]
  },
  {
   "cell_type": "code",
   "execution_count": 50,
   "metadata": {},
   "outputs": [
    {
     "data": {
      "text/plain": [
       "<matplotlib.image.AxesImage at 0x7eff3e380450>"
      ]
     },
     "execution_count": 50,
     "metadata": {},
     "output_type": "execute_result"
    },
    {
     "data": {
      "image/png": "[encoded data removed]",
      "text/plain": [
       "<Figure size 432x288 with 1 Axes>"
      ]
     },
     "metadata": {
      "needs_background": "light"
     },
     "output_type": "display_data"
    }
   ],
   "source": [
    "plt.imshow(prediction)"
   ]
  },
  {
   "cell_type": "code",
   "execution_count": 53,
   "metadata": {},
   "outputs": [
    {
     "data": {
      "text/plain": [
       "<matplotlib.image.AxesImage at 0x7eff341ca890>"
      ]
     },
     "execution_count": 53,
     "metadata": {},
     "output_type": "execute_result"
    },
    {
     "data": {
      "image/png": "[encoded data removed]",
      "text/plain": [
       "<Figure size 432x288 with 1 Axes>"
      ]
     },
     "metadata": {
      "needs_background": "light"
     },
     "output_type": "display_data"
    }
   ],
   "source": [
    "plt.imshow(prediction == 5)"
   ]
  },
  {
   "cell_type": "code",
   "execution_count": null,
   "metadata": {},
   "outputs": [],
   "source": []
  }
 ],
 "metadata": {
  "kernelspec": {
   "display_name": "YetAnotherSegmentationExperiment",
   "language": "python",
   "name": "yetanothersegmentationexperiment"
  },
  "language_info": {
   "codemirror_mode": {
    "name": "ipython",
    "version": 3
   },
   "file_extension": ".py",
   "mimetype": "text/x-python",
   "name": "python",
   "nbconvert_exporter": "python",
   "pygments_lexer": "ipython3",
   "version": "3.7.7"
  }
 },
 "nbformat": 4,
 "nbformat_minor": 2
}
