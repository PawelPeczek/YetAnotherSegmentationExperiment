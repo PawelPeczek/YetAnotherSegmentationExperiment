{
 "cells": [
  {
   "cell_type": "code",
   "execution_count": 1,
   "metadata": {},
   "outputs": [],
   "source": [
    "%load_ext autoreload\n",
    "%autoreload 2"
   ]
  },
  {
   "cell_type": "code",
   "execution_count": 2,
   "metadata": {},
   "outputs": [],
   "source": [
    "import sys\n",
    "sys.path.append(\"../\")"
   ]
  },
  {
   "cell_type": "code",
   "execution_count": 22,
   "metadata": {},
   "outputs": [],
   "source": [
    "import os\n",
    "import random"
   ]
  },
  {
   "cell_type": "code",
   "execution_count": 31,
   "metadata": {},
   "outputs": [],
   "source": [
    "import numpy as np\n",
    "import matplotlib.pyplot as plt"
   ]
  },
  {
   "cell_type": "code",
   "execution_count": 5,
   "metadata": {},
   "outputs": [],
   "source": [
    "from src.models.unet import UNet\n",
    "import src.config as global_config\n",
    "from src.data_access.data_generation import DataGenerator\n",
    "from src.data_access.folds_generation import FoldsGenerator\n",
    "import src.data_access.config as data_access_config\n",
    "from src.data_access.utils import prepare_class_weighting, \\\n",
    "    convert_class_weighting_to_vector\n",
    "from src.evaluation.losses.dice import dice_loss, bce_dice_loss"
   ]
  },
  {
   "cell_type": "code",
   "execution_count": 6,
   "metadata": {},
   "outputs": [],
   "source": [
    "u_net = UNet(num_classes=len(global_config.CLASS_MAPPINGS) + 1)"
   ]
  },
  {
   "cell_type": "code",
   "execution_count": 7,
   "metadata": {},
   "outputs": [
    {
     "name": "stdout",
     "output_type": "stream",
     "text": [
      "WARNING:tensorflow:From /home/ppeczek/anaconda3/envs/YetAnotherSegmentationExperiment/lib/python3.7/site-packages/tensorflow/python/ops/resource_variable_ops.py:435: colocate_with (from tensorflow.python.framework.ops) is deprecated and will be removed in a future version.\n",
      "Instructions for updating:\n",
      "Colocations handled automatically by placer.\n"
     ]
    }
   ],
   "source": [
    "model = u_net.build_model(input_shape=(240, 320, 3))"
   ]
  },
  {
   "cell_type": "code",
   "execution_count": 8,
   "metadata": {
    "scrolled": false
   },
   "outputs": [
    {
     "name": "stdout",
     "output_type": "stream",
     "text": [
      "__________________________________________________________________________________________________\n",
      "Layer (type)                    Output Shape         Param #     Connected to                     \n",
      "==================================================================================================\n",
      "input (InputLayer)              (None, 240, 320, 3)  0                                            \n",
      "__________________________________________________________________________________________________\n",
      "sub_stack_1_1 (Conv2D)          (None, 240, 320, 64) 1792        input[0][0]                      \n",
      "__________________________________________________________________________________________________\n",
      "sub_stack_1_2 (Conv2D)          (None, 240, 320, 64) 36928       sub_stack_1_1[0][0]              \n",
      "__________________________________________________________________________________________________\n",
      "sub_stack_1_3 (Conv2D)          (None, 240, 320, 64) 36928       sub_stack_1_2[0][0]              \n",
      "__________________________________________________________________________________________________\n",
      "sub_stack_1_bn (BatchNormalizat (None, 240, 320, 64) 256         sub_stack_1_3[0][0]              \n",
      "__________________________________________________________________________________________________\n",
      "sub_stack_2_input (MaxPooling2D (None, 120, 160, 64) 0           sub_stack_1_bn[0][0]             \n",
      "__________________________________________________________________________________________________\n",
      "sub_stack_2_1 (Conv2D)          (None, 120, 160, 128 73856       sub_stack_2_input[0][0]          \n",
      "__________________________________________________________________________________________________\n",
      "sub_stack_2_2 (Conv2D)          (None, 120, 160, 128 147584      sub_stack_2_1[0][0]              \n",
      "__________________________________________________________________________________________________\n",
      "sub_stack_2_3 (Conv2D)          (None, 120, 160, 128 147584      sub_stack_2_2[0][0]              \n",
      "__________________________________________________________________________________________________\n",
      "sub_stack_2_bn (BatchNormalizat (None, 120, 160, 128 512         sub_stack_2_3[0][0]              \n",
      "__________________________________________________________________________________________________\n",
      "sub_stack_3_input (MaxPooling2D (None, 60, 80, 128)  0           sub_stack_2_bn[0][0]             \n",
      "__________________________________________________________________________________________________\n",
      "sub_stack_3_1 (Conv2D)          (None, 60, 80, 256)  295168      sub_stack_3_input[0][0]          \n",
      "__________________________________________________________________________________________________\n",
      "sub_stack_3_2 (Conv2D)          (None, 60, 80, 256)  590080      sub_stack_3_1[0][0]              \n",
      "__________________________________________________________________________________________________\n",
      "sub_stack_3_3 (Conv2D)          (None, 60, 80, 256)  590080      sub_stack_3_2[0][0]              \n",
      "__________________________________________________________________________________________________\n",
      "sub_stack_3_bn (BatchNormalizat (None, 60, 80, 256)  1024        sub_stack_3_3[0][0]              \n",
      "__________________________________________________________________________________________________\n",
      "sub_stack_4_input (MaxPooling2D (None, 30, 40, 256)  0           sub_stack_3_bn[0][0]             \n",
      "__________________________________________________________________________________________________\n",
      "sub_stack_4_1 (Conv2D)          (None, 30, 40, 512)  1180160     sub_stack_4_input[0][0]          \n",
      "__________________________________________________________________________________________________\n",
      "sub_stack_4_2 (Conv2D)          (None, 30, 40, 512)  2359808     sub_stack_4_1[0][0]              \n",
      "__________________________________________________________________________________________________\n",
      "sub_stack_4_3 (Conv2D)          (None, 30, 40, 512)  2359808     sub_stack_4_2[0][0]              \n",
      "__________________________________________________________________________________________________\n",
      "sub_stack_4_bn (BatchNormalizat (None, 30, 40, 512)  2048        sub_stack_4_3[0][0]              \n",
      "__________________________________________________________________________________________________\n",
      "sub_stack_5_input (MaxPooling2D (None, 15, 20, 512)  0           sub_stack_4_bn[0][0]             \n",
      "__________________________________________________________________________________________________\n",
      "filter_extraction_conv (Conv2D) (None, 15, 20, 1024) 4719616     sub_stack_5_input[0][0]          \n",
      "__________________________________________________________________________________________________\n",
      "filter_extraction_conv_bn (Batc (None, 15, 20, 1024) 4096        filter_extraction_conv[0][0]     \n",
      "__________________________________________________________________________________________________\n",
      "up_sampling_input (Conv2D)      (None, 15, 20, 512)  4719104     filter_extraction_conv_bn[0][0]  \n",
      "__________________________________________________________________________________________________\n",
      "up_sampling2d (UpSampling2D)    (None, 30, 40, 512)  0           up_sampling_input[0][0]          \n",
      "__________________________________________________________________________________________________\n",
      "up_sample_bottleneck_conv_1 (Co (None, 30, 40, 256)  524544      up_sampling2d[0][0]              \n",
      "__________________________________________________________________________________________________\n",
      "up_sample_concat_1 (Concatenate (None, 30, 40, 768)  0           up_sample_bottleneck_conv_1[0][0]\n",
      "                                                                 sub_stack_4_bn[0][0]             \n",
      "__________________________________________________________________________________________________\n",
      "up_sample_1_conv_3x3_1 (Conv2D) (None, 30, 40, 384)  2654592     up_sample_concat_1[0][0]         \n",
      "__________________________________________________________________________________________________\n",
      "up_sample_1_conv_3x3_2 (Conv2D) (None, 30, 40, 384)  1327488     up_sample_1_conv_3x3_1[0][0]     \n",
      "__________________________________________________________________________________________________\n",
      "up_sample_1_bn (BatchNormalizat (None, 30, 40, 384)  1536        up_sample_1_conv_3x3_2[0][0]     \n",
      "__________________________________________________________________________________________________\n",
      "up_sampling2d_1 (UpSampling2D)  (None, 60, 80, 384)  0           up_sample_1_bn[0][0]             \n",
      "__________________________________________________________________________________________________\n",
      "up_sample_bottleneck_conv_2 (Co (None, 60, 80, 192)  295104      up_sampling2d_1[0][0]            \n",
      "__________________________________________________________________________________________________\n",
      "up_sample_concat_2 (Concatenate (None, 60, 80, 448)  0           up_sample_bottleneck_conv_2[0][0]\n",
      "                                                                 sub_stack_3_bn[0][0]             \n",
      "__________________________________________________________________________________________________\n",
      "up_sample_2_conv_3x3_1 (Conv2D) (None, 60, 80, 224)  903392      up_sample_concat_2[0][0]         \n",
      "__________________________________________________________________________________________________\n",
      "up_sample_2_conv_3x3_2 (Conv2D) (None, 60, 80, 224)  451808      up_sample_2_conv_3x3_1[0][0]     \n",
      "__________________________________________________________________________________________________\n",
      "up_sample_2_bn (BatchNormalizat (None, 60, 80, 224)  896         up_sample_2_conv_3x3_2[0][0]     \n",
      "__________________________________________________________________________________________________\n",
      "up_sampling2d_2 (UpSampling2D)  (None, 120, 160, 224 0           up_sample_2_bn[0][0]             \n",
      "__________________________________________________________________________________________________\n",
      "up_sample_bottleneck_conv_3 (Co (None, 120, 160, 112 100464      up_sampling2d_2[0][0]            \n",
      "__________________________________________________________________________________________________\n",
      "up_sample_concat_3 (Concatenate (None, 120, 160, 240 0           up_sample_bottleneck_conv_3[0][0]\n",
      "                                                                 sub_stack_2_bn[0][0]             \n",
      "__________________________________________________________________________________________________\n",
      "up_sample_3_conv_3x3_1 (Conv2D) (None, 120, 160, 120 259320      up_sample_concat_3[0][0]         \n",
      "__________________________________________________________________________________________________\n",
      "up_sample_3_conv_3x3_2 (Conv2D) (None, 120, 160, 120 129720      up_sample_3_conv_3x3_1[0][0]     \n",
      "__________________________________________________________________________________________________\n",
      "up_sample_3_bn (BatchNormalizat (None, 120, 160, 120 480         up_sample_3_conv_3x3_2[0][0]     \n",
      "__________________________________________________________________________________________________\n",
      "up_sampling2d_3 (UpSampling2D)  (None, 240, 320, 120 0           up_sample_3_bn[0][0]             \n",
      "__________________________________________________________________________________________________\n",
      "up_sample_bottleneck_conv_4 (Co (None, 240, 320, 60) 28860       up_sampling2d_3[0][0]            \n",
      "__________________________________________________________________________________________________\n",
      "up_sample_concat_4 (Concatenate (None, 240, 320, 124 0           up_sample_bottleneck_conv_4[0][0]\n",
      "                                                                 sub_stack_1_bn[0][0]             \n",
      "__________________________________________________________________________________________________\n",
      "up_sample_4_conv_3x3_1 (Conv2D) (None, 240, 320, 62) 69254       up_sample_concat_4[0][0]         \n",
      "__________________________________________________________________________________________________\n",
      "up_sample_4_conv_3x3_2 (Conv2D) (None, 240, 320, 62) 34658       up_sample_4_conv_3x3_1[0][0]     \n",
      "__________________________________________________________________________________________________\n",
      "up_sample_4_bn (BatchNormalizat (None, 240, 320, 62) 248         up_sample_4_conv_3x3_2[0][0]     \n",
      "__________________________________________________________________________________________________\n",
      "output (Conv2D)                 (None, 240, 320, 7)  441         up_sample_4_bn[0][0]             \n",
      "__________________________________________________________________________________________________\n",
      "output_soft_max (Softmax)       (None, 240, 320, 7)  0           output[0][0]                     \n",
      "==================================================================================================\n",
      "Total params: 24,049,237\n",
      "Trainable params: 24,043,689\n",
      "Non-trainable params: 5,548\n",
      "__________________________________________________________________________________________________\n"
     ]
    }
   ],
   "source": [
    "model.summary()"
   ]
  },
  {
   "cell_type": "code",
   "execution_count": 9,
   "metadata": {},
   "outputs": [],
   "source": [
    "folds_genarator = FoldsGenerator(\n",
    "    dataset_path=global_config.DATASET_PATH,\n",
    "    generator_specs=data_access_config.FOLDS_GENERATOR_SPECS\n",
    ")"
   ]
  },
  {
   "cell_type": "code",
   "execution_count": 10,
   "metadata": {},
   "outputs": [],
   "source": [
    "dataset_split = next(folds_genarator.generate_folds())"
   ]
  },
  {
   "cell_type": "code",
   "execution_count": 11,
   "metadata": {},
   "outputs": [],
   "source": [
    "training_set = dataset_split.training_set\n",
    "test_set = dataset_split.test_set"
   ]
  },
  {
   "cell_type": "code",
   "execution_count": 12,
   "metadata": {},
   "outputs": [],
   "source": [
    "class_weights = prepare_class_weighting(\n",
    "    class_balance=training_set.classes_balance,\n",
    "    class_mapping=global_config.CLASS_MAPPINGS\n",
    ")"
   ]
  },
  {
   "cell_type": "code",
   "execution_count": 13,
   "metadata": {},
   "outputs": [],
   "source": [
    "class_weights_vector = convert_class_weighting_to_vector(\n",
    "    class_weighting=class_weights\n",
    ")"
   ]
  },
  {
   "cell_type": "code",
   "execution_count": 14,
   "metadata": {},
   "outputs": [
    {
     "data": {
      "text/plain": [
       "{6: 0.1723363816134394,\n",
       " 4: 0.15029336928403944,\n",
       " 1: 0.11239331925278236,\n",
       " 5: 0.11540385320291446,\n",
       " 3: 0.2692754920614553,\n",
       " 2: 0.16156536470990535,\n",
       " 0: 0.018732219875463727}"
      ]
     },
     "execution_count": 14,
     "metadata": {},
     "output_type": "execute_result"
    }
   ],
   "source": [
    "class_weights"
   ]
  },
  {
   "cell_type": "code",
   "execution_count": 15,
   "metadata": {},
   "outputs": [
    {
     "data": {
      "text/plain": [
       "array([0.01873222, 0.11239332, 0.16156536, 0.2692755 , 0.15029337,\n",
       "       0.11540385, 0.17233638], dtype=float32)"
      ]
     },
     "execution_count": 15,
     "metadata": {},
     "output_type": "execute_result"
    }
   ],
   "source": [
    "class_weights_vector"
   ]
  },
  {
   "cell_type": "code",
   "execution_count": 16,
   "metadata": {},
   "outputs": [],
   "source": [
    "def loss_function(y_true: np.ndarray, \n",
    "                  y_pred: np.ndarray\n",
    "                 ) -> float:\n",
    "    print(y_true, y_pred)\n",
    "    return 1.0 - dice_score(\n",
    "        y_true=y_true, \n",
    "        y_pred=y_pred, \n",
    "        classes_weight=class_weights_vector\n",
    "    )\n",
    "\n",
    "def dice_metrics(y_true: np.ndarray, \n",
    "                 y_pred: np.ndarray\n",
    "                 ) -> float:\n",
    "    dice_score(\n",
    "        y_true=y_true, \n",
    "        y_pred=y_pred\n",
    "    )"
   ]
  },
  {
   "cell_type": "code",
   "execution_count": 17,
   "metadata": {},
   "outputs": [],
   "source": [
    "training_generator = DataGenerator(\n",
    "    examples=training_set.examples,\n",
    "    transformation_chain=data_access_config.TRAINING_TRANSFORMATION_CHAIN,\n",
    "    batch_size=16\n",
    ")\n",
    "test_generator = DataGenerator(\n",
    "    examples=test_set.examples,\n",
    "    transformation_chain=data_access_config.VALIDATION_TRANSFORMATION_CHAIN,\n",
    "    batch_size=16\n",
    ")"
   ]
  },
  {
   "cell_type": "code",
   "execution_count": 18,
   "metadata": {},
   "outputs": [],
   "source": [
    "model.compile(\n",
    "    optimizer=\"adam\",\n",
    "    loss=bce_dice_loss,\n",
    "    metrics={\"dice\": dice_loss}\n",
    ")"
   ]
  },
  {
   "cell_type": "code",
   "execution_count": 19,
   "metadata": {
    "scrolled": false
   },
   "outputs": [
    {
     "name": "stdout",
     "output_type": "stream",
     "text": [
      "WARNING:tensorflow:From /home/ppeczek/anaconda3/envs/YetAnotherSegmentationExperiment/lib/python3.7/site-packages/tensorflow/python/ops/math_ops.py:3066: to_int32 (from tensorflow.python.ops.math_ops) is deprecated and will be removed in a future version.\n",
      "Instructions for updating:\n",
      "Use tf.cast instead.\n",
      "Epoch 1/32\n",
      "8/8 [==============================] - 24s 3s/step - loss: 51.7126\n",
      "32/32 [==============================] - 81s 3s/step - loss: 18.2623 - val_loss: 51.7126\n",
      "Epoch 2/32\n",
      "8/8 [==============================] - 24s 3s/step - loss: 47.9595\n",
      "32/32 [==============================] - 79s 2s/step - loss: 16.5742 - val_loss: 47.9595\n",
      "Epoch 3/32\n",
      "8/8 [==============================] - 25s 3s/step - loss: 47.3607\n",
      "32/32 [==============================] - 82s 3s/step - loss: 15.2071 - val_loss: 47.3607\n",
      "Epoch 4/32\n",
      "8/8 [==============================] - 23s 3s/step - loss: 49.5775 ETA: 51s -\n",
      "32/32 [==============================] - 78s 2s/step - loss: 12.4514 - val_loss: 49.5775\n",
      "Epoch 5/32\n",
      "8/8 [==============================] - 23s 3s/step - loss: 53.2302\n",
      "32/32 [==============================] - 80s 3s/step - loss: 8.8948 - val_loss: 53.2302\n",
      "Epoch 6/32\n",
      "8/8 [==============================] - 24s 3s/step - loss: 10.3720\n",
      "32/32 [==============================] - 72s 2s/step - loss: 6.8211 - val_loss: 10.3720\n",
      "Epoch 7/32\n",
      " 3/32 [=>............................] - ETA: 28s - loss: 5.431Epoch 7/32\n",
      "8/8 [==============================] - 24s 3s/step - loss: 10.4764\n",
      "32/32 [==============================] - 71s 2s/step - loss: 4.8784 - val_loss: 10.4764\n",
      "Epoch 8/32\n",
      "8/8 [==============================] - 23s 3s/step - loss: 11.1712\n",
      "32/32 [==============================] - 77s 2s/step - loss: 4.2232 - val_loss: 11.1712\n",
      "Epoch 9/32\n",
      " 3/32 [=>............................] - ETA: 41s - loss: 3.9234Epoch 9/32\n",
      "8/8 [==============================] - 24s 3s/step - loss: 15.5296TA: 7s - loss: 15.9\n",
      "32/32 [==============================] - 72s 2s/step - loss: 3.8634 - val_loss: 15.5296\n",
      "Epoch 10/32\n",
      "8/8 [==============================] - 23s 3s/step - loss: 15.5115\n",
      "32/32 [==============================] - 71s 2s/step - loss: 3.7256 - val_loss: 15.5115\n",
      "Epoch 11/32\n",
      "8/8 [==============================] - 23s 3s/step - loss: 5.7820\n",
      "32/32 [==============================] - 70s 2s/step - loss: 3.6254 - val_loss: 5.7820\n",
      "Epoch 12/32\n",
      " 3/32 [=>............................] - ETA: 38s - loss: 3.0848Epoch 12/32\n",
      "8/8 [==============================] - 24s 3s/step - loss: 9.0608: 13s - loss: 8.\n",
      "32/32 [==============================] - 73s 2s/step - loss: 3.4841 - val_loss: 9.0608\n",
      "Epoch 13/32\n",
      "8/8 [==============================] - 24s 3s/step - loss: 4.9592A: 29s - loss\n",
      "32/32 [==============================] - 76s 2s/step - loss: 3.5274 - val_loss: 4.9592\n",
      "Epoch 14/32\n",
      "8/8 [==============================] - 24s 3s/step - loss: 9.9904\n",
      "32/32 [==============================] - 83s 3s/step - loss: 3.5651 - val_loss: 9.9904\n",
      "Epoch 15/32\n",
      " 8/32 [======>.......................] - ETA: 37s - loss: 3.3178Epoch 15/32\n",
      "8/8 [==============================] - 25s 3s/step - loss: 6.8204\n",
      "32/32 [==============================] - 85s 3s/step - loss: 3.5717 - val_loss: 6.8204\n",
      "Epoch 16/32\n",
      "8/8 [==============================] - 24s 3s/step - loss: 7.0181\n",
      "32/32 [==============================] - 82s 3s/step - loss: 3.3595 - val_loss: 7.0181\n",
      "Epoch 17/32\n",
      " 2/32 [>.............................] - ETA: 54s - loss: 2.9337 Epoch 17/32\n",
      "8/8 [==============================] - 24s 3s/step - loss: 6.5690\n",
      "32/32 [==============================] - 73s 2s/step - loss: 3.4080 - val_loss: 6.5690\n",
      "Epoch 18/32\n",
      "8/8 [==============================] - 25s 3s/step - loss: 6.4350\n",
      "32/32 [==============================] - 74s 2s/step - loss: 3.4123 - val_loss: 6.4350\n",
      "Epoch 19/32\n",
      "8/8 [==============================] - 26s 3s/step - loss: 13.6296\n",
      "32/32 [==============================] - 86s 3s/step - loss: 3.5080 - val_loss: 13.6296\n",
      "Epoch 20/32\n",
      "8/8 [==============================] - 25s 3s/step - loss: 4.9405\n",
      "32/32 [==============================] - 82s 3s/step - loss: 3.1754 - val_loss: 4.9405\n",
      "Epoch 21/32\n",
      "8/8 [==============================] - 24s 3s/step - loss: 11.3877\n",
      "32/32 [==============================] - 73s 2s/step - loss: 3.2757 - val_loss: 11.3877\n",
      "Epoch 22/32\n",
      " 4/32 [==>...........................] - ETA: 29s - loss: 3.5143Epoch 22/32\n",
      " 6/32 [====>.........................] - ETA: 26s - loss: 3.5854Epoch 22/32\n",
      "8/8 [==============================] - 25s 3s/step - loss: 5.6303\n",
      "32/32 [==============================] - 75s 2s/step - loss: 3.3672 - val_loss: 5.6303\n",
      "Epoch 23/32\n",
      "8/8 [==============================] - 24s 3s/step - loss: 8.2531\n",
      "32/32 [==============================] - 83s 3s/step - loss: 3.2570 - val_loss: 8.2531\n",
      "Epoch 24/32\n",
      "8/8 [==============================] - 25s 3s/step - loss: 6.4145ETA: 34\n",
      "32/32 [==============================] - 84s 3s/step - loss: 3.3210 - val_loss: 6.4145\n",
      "Epoch 25/32\n",
      "8/8 [==============================] - 25s 3s/step - loss: 7.2200ETA: 28s - \n",
      "32/32 [==============================] - 80s 2s/step - loss: 3.2407 - val_loss: 7.2200\n",
      "Epoch 26/32\n",
      " 3/32 [=>............................] - ETA: 35s - loss: 3.9920Epoch 26/32\n",
      "8/8 [==============================] - 24s 3s/step - loss: 12.0792\n",
      "32/32 [==============================] - 75s 2s/step - loss: 3.2058 - val_loss: 12.0792\n",
      "Epoch 27/32\n",
      "8/8 [==============================] - 25s 3s/step - loss: 9.8754ETA: 37s - los\n",
      "32/32 [==============================] - 83s 3s/step - loss: 3.1753 - val_loss: 9.8754\n",
      "Epoch 28/32\n",
      "8/8 [==============================] - 24s 3s/step - loss: 12.9970\n",
      "32/32 [==============================] - 73s 2s/step - loss: 3.1772 - val_loss: 12.9970\n",
      "Epoch 29/32\n",
      " 5/32 [===>..........................] - ETA: 29s - loss: 2.5248Epoch 29/32\n",
      "8/8 [==============================] - 25s 3s/step - loss: 6.4595\n",
      "32/32 [==============================] - 74s 2s/step - loss: 3.0642 - val_loss: 6.4595\n",
      "Epoch 30/32\n",
      "8/8 [==============================] - 24s 3s/step - loss: 9.3027ETA: 16s - ETA: 22s - loss: 10\n",
      "32/32 [==============================] - 84s 3s/step - loss: 3.1052 - val_loss: 9.3027\n",
      "Epoch 31/32\n",
      "8/8 [==============================] - 24s 3s/step - loss: 9.2536\n",
      "32/32 [==============================] - 81s 3s/step - loss: 3.2587 - val_loss: 9.2536\n",
      "Epoch 32/32\n",
      " 7/32 [=====>........................] - ETA: 35s - loss: 2.9927\n",
      "8/8 [==============================] - 24s 3s/step - loss: 4.3310\n",
      "32/32 [==============================] - 82s 3s/step - loss: 3.0611 - val_loss: 4.3310\n"
     ]
    },
    {
     "data": {
      "text/plain": [
       "<tensorflow.python.keras.callbacks.History at 0x7efbc5a88190>"
      ]
     },
     "execution_count": 19,
     "metadata": {},
     "output_type": "execute_result"
    },
    {
     "name": "stdout",
     "output_type": "stream",
     "text": [
      "\b\b\b\b\b\b\b\b\b\b\b\b\b\b\b\b\b\b\b\b\b\b\b\b\b\b\b\b\b\b\b\b\b\b\b\b\b\b\b\b\b\b\b\b\b\b\b\b\b\b\b\b\b\b\b\b\b\b\b\b\b\b"
     ]
    }
   ],
   "source": [
    "model.fit_generator(\n",
    "    training_generator, \n",
    "    epochs=32, \n",
    "    verbose=1,\n",
    "    callbacks=None,\n",
    "    validation_data=test_generator, \n",
    "    max_queue_size=10,\n",
    "    workers=8,\n",
    "    use_multiprocessing=False\n",
    ")"
   ]
  },
  {
   "cell_type": "code",
   "execution_count": 21,
   "metadata": {},
   "outputs": [],
   "source": [
    "model.save(os.path.join(global_config.MODELS_PATH, \"u_net.h5\"))"
   ]
  },
  {
   "cell_type": "code",
   "execution_count": 141,
   "metadata": {},
   "outputs": [],
   "source": [
    "test_batch = test_generator[0]"
   ]
  },
  {
   "cell_type": "code",
   "execution_count": 142,
   "metadata": {},
   "outputs": [],
   "source": [
    "test_sample = test_batch[0][1]"
   ]
  },
  {
   "cell_type": "code",
   "execution_count": 143,
   "metadata": {},
   "outputs": [
    {
     "name": "stderr",
     "output_type": "stream",
     "text": [
      "Clipping input data to the valid range for imshow with RGB data ([0..1] for floats or [0..255] for integers).\n"
     ]
    },
    {
     "data": {
      "text/plain": [
       "<matplotlib.image.AxesImage at 0x7efbb7fbc8d0>"
      ]
     },
     "execution_count": 143,
     "metadata": {},
     "output_type": "execute_result"
    },
    {
     "data": {
      "image/png": "[encoded data removed]",
      "text/plain": [
       "<Figure size 432x288 with 1 Axes>"
      ]
     },
     "metadata": {
      "needs_background": "light"
     },
     "output_type": "display_data"
    }
   ],
   "source": [
    "plt.imshow(test_sample)"
   ]
  },
  {
   "cell_type": "code",
   "execution_count": 144,
   "metadata": {},
   "outputs": [],
   "source": [
    "prediction = model.predict(np.expand_dims(test_sample, axis=0))"
   ]
  },
  {
   "cell_type": "code",
   "execution_count": 145,
   "metadata": {},
   "outputs": [],
   "source": [
    "prediction = np.argmax(prediction, axis=-1)"
   ]
  },
  {
   "cell_type": "code",
   "execution_count": 146,
   "metadata": {},
   "outputs": [],
   "source": [
    "prediction = np.squeeze(prediction, axis=0)"
   ]
  },
  {
   "cell_type": "code",
   "execution_count": 147,
   "metadata": {},
   "outputs": [
    {
     "data": {
      "text/plain": [
       "<matplotlib.image.AxesImage at 0x7efbb7ec30d0>"
      ]
     },
     "execution_count": 147,
     "metadata": {},
     "output_type": "execute_result"
    },
    {
     "data": {
      "image/png": "[encoded data removed]",
      "text/plain": [
       "<Figure size 432x288 with 1 Axes>"
      ]
     },
     "metadata": {
      "needs_background": "light"
     },
     "output_type": "display_data"
    }
   ],
   "source": [
    "plt.imshow(prediction)"
   ]
  },
  {
   "cell_type": "code",
   "execution_count": 148,
   "metadata": {},
   "outputs": [
    {
     "data": {
      "text/plain": [
       "6"
      ]
     },
     "execution_count": 148,
     "metadata": {},
     "output_type": "execute_result"
    }
   ],
   "source": [
    "np.max(prediction)"
   ]
  },
  {
   "cell_type": "code",
   "execution_count": null,
   "metadata": {},
   "outputs": [],
   "source": []
  }
 ],
 "metadata": {
  "kernelspec": {
   "display_name": "YetAnotherSegmentationExperiment",
   "language": "python",
   "name": "yetanothersegmentationexperiment"
  },
  "language_info": {
   "codemirror_mode": {
    "name": "ipython",
    "version": 3
   },
   "file_extension": ".py",
   "mimetype": "text/x-python",
   "name": "python",
   "nbconvert_exporter": "python",
   "pygments_lexer": "ipython3",
   "version": "3.7.7"
  }
 },
 "nbformat": 4,
 "nbformat_minor": 2
}
