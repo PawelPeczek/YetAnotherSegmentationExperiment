{
 "cells": [
  {
   "cell_type": "code",
   "execution_count": 1,
   "metadata": {},
   "outputs": [],
   "source": [
    "%load_ext autoreload\n",
    "%autoreload 2"
   ]
  },
  {
   "cell_type": "code",
   "execution_count": 2,
   "metadata": {},
   "outputs": [],
   "source": [
    "import sys\n",
    "sys.path.append(\"../\")"
   ]
  },
  {
   "cell_type": "code",
   "execution_count": 4,
   "metadata": {},
   "outputs": [],
   "source": [
    "import os\n",
    "from src.models.unet import UNet\n",
    "from src.models.icnet import ICNet\n",
    "from src.models.base import SegmentationModel\n",
    "import src.config as global_config\n",
    "from src.data_access.folds_generation import FoldsGenerator\n",
    "import src.data_access.config as data_access_config\n",
    "from src.training.training_advision import TrainingAdvisor\n",
    "from tensorflow.python.keras.engine.training import Model\n",
    "import numpy as np\n",
    "from src.utils.fs_utils import parse_json\n",
    "from src.primitives.data_access import DataSetSplit\n",
    "from src.data_access.data_generation import DataGenerator\n",
    "import matplotlib.pyplot as plt\n",
    "import time\n",
    "from src.config import CLASS_TO_COLORS\n",
    "from typing import List, Tuple"
   ]
  },
  {
   "cell_type": "code",
   "execution_count": 5,
   "metadata": {},
   "outputs": [],
   "source": [
    "u_net = UNet(num_classes=len(global_config.CLASS_MAPPINGS) + 1)\n",
    "ic_net = ICNet(num_classes=len(global_config.CLASS_MAPPINGS) + 1)"
   ]
  },
  {
   "cell_type": "code",
   "execution_count": 6,
   "metadata": {},
   "outputs": [],
   "source": [
    "from src.evaluation.evaluator import Evaluator, ExperimentEvaluator"
   ]
  },
  {
   "cell_type": "code",
   "execution_count": 7,
   "metadata": {},
   "outputs": [],
   "source": [
    "experiment_evaluator = ExperimentEvaluator(\n",
    "    model_builders={\n",
    "        \"ic_net_ce_dice\": ic_net, \n",
    "        \"ic_net_ce\": ic_net,\n",
    "        \"u_net_original_ce_dice\": u_net,\n",
    "        \"u_net_original_ce\": u_net\n",
    "    }\n",
    ")"
   ]
  },
  {
   "cell_type": "code",
   "execution_count": 8,
   "metadata": {},
   "outputs": [
    {
     "name": "stderr",
     "output_type": "stream",
     "text": [
      "\r",
      "  0%|          | 0/44 [00:00<?, ?it/s]"
     ]
    },
    {
     "name": "stdout",
     "output_type": "stream",
     "text": [
      "WARNING:tensorflow:From /home/ppeczek/anaconda3/envs/YetAnotherSegmentationExperiment/lib/python3.7/site-packages/tensorflow/python/ops/resource_variable_ops.py:435: colocate_with (from tensorflow.python.framework.ops) is deprecated and will be removed in a future version.\n",
      "Instructions for updating:\n",
      "Colocations handled automatically by placer.\n"
     ]
    },
    {
     "name": "stderr",
     "output_type": "stream",
     "text": [
      "100%|██████████| 44/44 [24:52<00:00, 33.92s/it]\n"
     ]
    }
   ],
   "source": [
    "experiment_evaluator.evaluate_experiment(\n",
    "    experiment_path=\"/home/ppeczek/Dokumenty/YetAnotherSegmentationExperiment/resources/experiments/final_experiment\"\n",
    ")"
   ]
  },
  {
   "cell_type": "code",
   "execution_count": null,
   "metadata": {},
   "outputs": [],
   "source": []
  }
 ],
 "metadata": {
  "kernelspec": {
   "display_name": "YetAnotherSegmentationExperiment",
   "language": "python",
   "name": "yetanothersegmentationexperiment"
  },
  "language_info": {
   "codemirror_mode": {
    "name": "ipython",
    "version": 3
   },
   "file_extension": ".py",
   "mimetype": "text/x-python",
   "name": "python",
   "nbconvert_exporter": "python",
   "pygments_lexer": "ipython3",
   "version": "3.7.7"
  }
 },
 "nbformat": 4,
 "nbformat_minor": 2
}
