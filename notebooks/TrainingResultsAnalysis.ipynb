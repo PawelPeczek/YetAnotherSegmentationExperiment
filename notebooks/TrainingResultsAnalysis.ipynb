{
 "cells": [
  {
   "cell_type": "code",
   "execution_count": 1,
   "metadata": {},
   "outputs": [],
   "source": [
    "%load_ext autoreload\n",
    "%autoreload 2"
   ]
  },
  {
   "cell_type": "code",
   "execution_count": 2,
   "metadata": {},
   "outputs": [],
   "source": [
    "import sys\n",
    "sys.path.append(\"../\")"
   ]
  },
  {
   "cell_type": "code",
   "execution_count": 4,
   "metadata": {},
   "outputs": [],
   "source": [
    "import os\n",
    "from src.models.unet import UNet\n",
    "from src.models.icnet import ICNet\n",
    "from src.models.base import SegmentationModel\n",
    "import src.config as global_config\n",
    "from src.data_access.folds_generation import FoldsGenerator\n",
    "import src.data_access.config as data_access_config\n",
    "from src.evaluation.losses.dice import dice_loss, bce_dice_loss\n",
    "from src.training.training_advision import TrainingAdvisor\n",
    "from tensorflow.python.keras.engine.training import Model\n",
    "import numpy as np\n",
    "from src.utils.fs_utils import parse_json\n",
    "from src.primitives.data_access import DataSetSplit\n",
    "from src.data_access.data_generation import DataGenerator\n",
    "import matplotlib.pyplot as plt\n",
    "import time\n",
    "from src.config import CLASS_TO_COLORS\n",
    "from typing import List, Tuple"
   ]
  },
  {
   "cell_type": "code",
   "execution_count": 5,
   "metadata": {},
   "outputs": [],
   "source": [
    "u_net = UNet(num_classes=len(global_config.CLASS_MAPPINGS) + 1)\n",
    "ic_net = ICNet(num_classes=len(global_config.CLASS_MAPPINGS) + 1)"
   ]
  },
  {
   "cell_type": "code",
   "execution_count": 60,
   "metadata": {},
   "outputs": [],
   "source": [
    "from src.evaluation.evaluator import Evaluator, ExperimentEvaluator"
   ]
  },
  {
   "cell_type": "code",
   "execution_count": 61,
   "metadata": {},
   "outputs": [],
   "source": [
    "experiment_evaluator = ExperimentEvaluator(\n",
    "    model_builders={\"ic_net\": ic_net, \"u_net_original\": u_net}\n",
    ")"
   ]
  },
  {
   "cell_type": "code",
   "execution_count": 62,
   "metadata": {},
   "outputs": [
    {
     "name": "stderr",
     "output_type": "stream",
     "text": [
      "\n",
      "\n",
      "\n",
      "\n",
      "\n",
      "\n",
      "\n",
      "\n",
      "  0%|          | 0/22 [00:00<?, ?it/s]\u001b[A\u001b[A\u001b[A\u001b[A\u001b[A\u001b[A\u001b[A\u001b[A\n",
      "\n",
      "\n",
      "\n",
      "\n",
      "\n",
      "\n",
      "\n",
      "  5%|▍         | 1/22 [00:28<09:52, 28.20s/it]\u001b[A\u001b[A\u001b[A\u001b[A\u001b[A\u001b[A\u001b[A\u001b[A"
     ]
    },
    {
     "name": "stdout",
     "output_type": "stream",
     "text": [
      "For split /home/ppeczek/Dokumenty/YetAnotherSegmentationExperiment/resources/experiments/test_experiment_v1/u_net_original/rotation-based_split_#2 there was exception: Data split missmatch for Rotation-based split #2\n",
      "For split /home/ppeczek/Dokumenty/YetAnotherSegmentationExperiment/resources/experiments/test_experiment_v1/u_net_original/rotation-based_split_#0 there was exception: Data split missmatch for Rotation-based split #0\n"
     ]
    },
    {
     "name": "stderr",
     "output_type": "stream",
     "text": [
      "\n",
      "\n",
      "\n",
      "\n",
      "\n",
      "\n",
      "\n",
      "\n",
      " 18%|█▊        | 4/22 [00:59<06:50, 22.82s/it]\u001b[A\u001b[A\u001b[A\u001b[A\u001b[A\u001b[A\u001b[A\u001b[A\n",
      "\n",
      "\n",
      "\n",
      "\n",
      "\n",
      "\n",
      "\n",
      " 23%|██▎       | 5/22 [01:33<07:28, 26.40s/it]\u001b[A\u001b[A\u001b[A\u001b[A\u001b[A\u001b[A\u001b[A\u001b[A\n",
      "\n",
      "\n",
      "\n",
      "\n",
      "\n",
      "\n",
      "\n",
      " 27%|██▋       | 6/22 [02:03<07:17, 27.33s/it]\u001b[A\u001b[A\u001b[A\u001b[A\u001b[A\u001b[A\u001b[A\u001b[A\n",
      "\n",
      "\n",
      "\n",
      "\n",
      "\n",
      "\n",
      "\n",
      " 32%|███▏      | 7/22 [02:35<07:10, 28.71s/it]\u001b[A\u001b[A\u001b[A\u001b[A\u001b[A\u001b[A\u001b[A\u001b[A\n",
      "\n",
      "\n",
      "\n",
      "\n",
      "\n",
      "\n",
      "\n",
      " 36%|███▋      | 8/22 [03:06<06:53, 29.55s/it]\u001b[A\u001b[A\u001b[A\u001b[A\u001b[A\u001b[A\u001b[A\u001b[A\n",
      "\n",
      "\n",
      "\n",
      "\n",
      "\n",
      "\n",
      "\n",
      " 41%|████      | 9/22 [03:39<06:35, 30.41s/it]\u001b[A\u001b[A\u001b[A\u001b[A\u001b[A\u001b[A\u001b[A\u001b[A\n",
      "\n",
      "\n",
      "\n",
      "\n",
      "\n",
      "\n",
      "\n",
      " 45%|████▌     | 10/22 [04:09<06:03, 30.28s/it]\u001b[A\u001b[A\u001b[A\u001b[A\u001b[A\u001b[A\u001b[A\u001b[A"
     ]
    },
    {
     "name": "stdout",
     "output_type": "stream",
     "text": [
      "For split /home/ppeczek/Dokumenty/YetAnotherSegmentationExperiment/resources/experiments/test_experiment_v1/u_net_original/rotation-based_split_#1 there was exception: Data split missmatch for Rotation-based split #1\n"
     ]
    },
    {
     "name": "stderr",
     "output_type": "stream",
     "text": [
      "\n",
      "\n",
      "\n",
      "\n",
      "\n",
      "\n",
      "\n",
      "\n",
      " 55%|█████▍    | 12/22 [04:35<04:12, 25.21s/it]\u001b[A\u001b[A\u001b[A\u001b[A\u001b[A\u001b[A\u001b[A\u001b[A"
     ]
    },
    {
     "name": "stdout",
     "output_type": "stream",
     "text": [
      "For split /home/ppeczek/Dokumenty/YetAnotherSegmentationExperiment/resources/experiments/test_experiment_v1/ic_net/rotation-based_split_#2 there was exception: Data split missmatch for Rotation-based split #2\n",
      "For split /home/ppeczek/Dokumenty/YetAnotherSegmentationExperiment/resources/experiments/test_experiment_v1/ic_net/rotation-based_split_#0 there was exception: Data split missmatch for Rotation-based split #0\n"
     ]
    },
    {
     "name": "stderr",
     "output_type": "stream",
     "text": [
      "\n",
      "\n",
      "\n",
      "\n",
      "\n",
      "\n",
      "\n",
      "\n",
      " 68%|██████▊   | 15/22 [05:03<02:22, 20.38s/it]\u001b[A\u001b[A\u001b[A\u001b[A\u001b[A\u001b[A\u001b[A\u001b[A\n",
      "\n",
      "\n",
      "\n",
      "\n",
      "\n",
      "\n",
      "\n",
      " 73%|███████▎  | 16/22 [05:32<02:18, 23.03s/it]\u001b[A\u001b[A\u001b[A\u001b[A\u001b[A\u001b[A\u001b[A\u001b[A\n",
      "\n",
      "\n",
      "\n",
      "\n",
      "\n",
      "\n",
      "\n",
      " 77%|███████▋  | 17/22 [06:01<02:04, 24.83s/it]\u001b[A\u001b[A\u001b[A\u001b[A\u001b[A\u001b[A\u001b[A\u001b[A\n",
      "\n",
      "\n",
      "\n",
      "\n",
      "\n",
      "\n",
      "\n",
      " 82%|████████▏ | 18/22 [06:30<01:44, 26.20s/it]\u001b[A\u001b[A\u001b[A\u001b[A\u001b[A\u001b[A\u001b[A\u001b[A\n",
      "\n",
      "\n",
      "\n",
      "\n",
      "\n",
      "\n",
      "\n",
      " 86%|████████▋ | 19/22 [07:00<01:21, 27.33s/it]\u001b[A\u001b[A\u001b[A\u001b[A\u001b[A\u001b[A\u001b[A\u001b[A\n",
      "\n",
      "\n",
      "\n",
      "\n",
      "\n",
      "\n",
      "\n",
      " 91%|█████████ | 20/22 [07:30<00:56, 28.06s/it]\u001b[A\u001b[A\u001b[A\u001b[A\u001b[A\u001b[A\u001b[A\u001b[A\n",
      "\n",
      "\n",
      "\n",
      "\n",
      "\n",
      "\n",
      "\n",
      "100%|██████████| 22/22 [07:59<00:00, 21.81s/it]\u001b[A\u001b[A\u001b[A\u001b[A\u001b[A\u001b[A\u001b[A\u001b[A"
     ]
    },
    {
     "name": "stdout",
     "output_type": "stream",
     "text": [
      "For split /home/ppeczek/Dokumenty/YetAnotherSegmentationExperiment/resources/experiments/test_experiment_v1/ic_net/rotation-based_split_#1 there was exception: Data split missmatch for Rotation-based split #1\n"
     ]
    },
    {
     "name": "stderr",
     "output_type": "stream",
     "text": [
      "\n"
     ]
    }
   ],
   "source": [
    "experiment_evaluator.evaluate_experiment(\n",
    "    experiment_path=\"/home/ppeczek/Dokumenty/YetAnotherSegmentationExperiment/resources/experiments/test_experiment_v1\"\n",
    ")"
   ]
  }
 ],
 "metadata": {
  "kernelspec": {
   "display_name": "YetAnotherSegmentationExperiment",
   "language": "python",
   "name": "yetanothersegmentationexperiment"
  },
  "language_info": {
   "codemirror_mode": {
    "name": "ipython",
    "version": 3
   },
   "file_extension": ".py",
   "mimetype": "text/x-python",
   "name": "python",
   "nbconvert_exporter": "python",
   "pygments_lexer": "ipython3",
   "version": "3.7.7"
  }
 },
 "nbformat": 4,
 "nbformat_minor": 2
}
